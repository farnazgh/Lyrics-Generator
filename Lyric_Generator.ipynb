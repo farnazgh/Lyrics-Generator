{
  "nbformat": 4,
  "nbformat_minor": 0,
  "metadata": {
    "colab": {
      "name": "Lyric Generator.ipynb",
      "provenance": [],
      "include_colab_link": true
    },
    "kernelspec": {
      "name": "python3",
      "display_name": "Python 3"
    },
    "accelerator": "GPU"
  },
  "cells": [
    {
      "cell_type": "markdown",
      "metadata": {
        "id": "view-in-github",
        "colab_type": "text"
      },
      "source": [
        "<a href=\"https://colab.research.google.com/github/farnazgh/Lyrics-Generator/blob/master/Lyric_Generator.ipynb\" target=\"_parent\"><img src=\"https://colab.research.google.com/assets/colab-badge.svg\" alt=\"Open In Colab\"/></a>"
      ]
    },
    {
      "cell_type": "code",
      "metadata": {
        "id": "XFdFjX2y6fMg",
        "colab_type": "code",
        "colab": {}
      },
      "source": [
        "from pydrive.auth import GoogleAuth\n",
        "from pydrive.drive import GoogleDrive\n",
        "from google.colab import auth\n",
        "from oauth2client.client import GoogleCredentials\n",
        "\n",
        "auth.authenticate_user()\n",
        "gauth = GoogleAuth()\n",
        "gauth.credentials = GoogleCredentials.get_application_default()\n",
        "drive = GoogleDrive(gauth)"
      ],
      "execution_count": 0,
      "outputs": []
    },
    {
      "cell_type": "code",
      "metadata": {
        "id": "5p3KrSOH6pVf",
        "colab_type": "code",
        "colab": {
          "base_uri": "https://localhost:8080/",
          "height": 35
        },
        "outputId": "1a6e7396-2894-433c-f24d-baf42eae7ce1"
      },
      "source": [
        "\n",
        "link = 'https://drive.google.com/open?id=1N2ice9Kou9ZC9j3odRvWbhRfRtx6ar9u'\n",
        "fluff, id = link.split('=')\n",
        "\n",
        "print (id)\n",
        "\n",
        "downloaded = drive.CreateFile({'id':id}) \n",
        "downloaded.GetContentFile('songdata_UTF8_clean.txt')"
      ],
      "execution_count": 73,
      "outputs": [
        {
          "output_type": "stream",
          "text": [
            "1N2ice9Kou9ZC9j3odRvWbhRfRtx6ar9u\n"
          ],
          "name": "stdout"
        }
      ]
    },
    {
      "cell_type": "code",
      "metadata": {
        "id": "ytZi9gOG8RTZ",
        "colab_type": "code",
        "colab": {
          "base_uri": "https://localhost:8080/",
          "height": 55
        },
        "outputId": "60010d9f-e97a-4940-9606-67f9c7db16b9"
      },
      "source": [
        "\n",
        "\n",
        "\n",
        "\n",
        "\n",
        "# f = open(\"songdata-utf8.txt\", \"r\")\n",
        "# _file = f.read()\n",
        "\n",
        "with open('songdata_UTF8_clean.txt', 'r') as content_file:\n",
        "    content = content_file.read()\n",
        "songlyrics = content.split(\"\\\"\")\n",
        "\n",
        "\n",
        "clean_songlyrics = []\n",
        "for item in songlyrics:\n",
        "  if len(item)>1:\n",
        "    clean_songlyrics.append(item)\n",
        "# print(clean_songlyrics[0])\n",
        "\n",
        "\n",
        "lyrics = []\n",
        "for l in clean_songlyrics:\n",
        "#   l = l.replace(\"\\n\", \"\")\n",
        "#   l = l.replace(\"\\n\", \"\")\n",
        "  sentences = l.split(\"\\n\")\n",
        "  lyrics.append(sentences)\n",
        "  \n",
        "\n",
        "\n",
        "\n",
        "for l in lyrics:\n",
        "  if ' ' in l:\n",
        "    l.remove(' ')\n",
        "    \n",
        "    \n",
        "print(lyrics[0])"
      ],
      "execution_count": 80,
      "outputs": [
        {
          "output_type": "stream",
          "text": [
            "[\"Look at her face, it's a wonderful face \", 'And it means something special to me ', 'Look at the way that she smiles when she sees me ', 'How lucky can one fellow be? ', \"She's just my kind of girl, she makes me feel fine \", 'Who could ever believe that she could be mine? ', \"She's just my kind of girl, without her I'm blue \", 'And if she ever leaves me what could I do, what could I do? ', ' ', 'And when we go for a walk in the park ', 'And she holds me and squeezes my hand ', \"We'll go on walking for hours and talking \", 'About all the things that we plan ', ' ', \"She's just my kind of girl, she makes me feel fine \", 'Who could ever believe that she could be mine? ', \"She's just my kind of girl, without her I'm blue \", 'And if she ever leaves me what could I do, what could I do?', '', '']\n"
          ],
          "name": "stdout"
        }
      ]
    },
    {
      "cell_type": "code",
      "metadata": {
        "id": "ZDY6hwgVQmKL",
        "colab_type": "code",
        "colab": {}
      },
      "source": [
        "import re\n",
        "regex = re.compile(\".*?\\[(.*?)\\]\")\n",
        "# mystring = \" [ww] fhhhh [tt d] nn\"\n",
        "# result = re.findall(regex, mystring)\n",
        "# print(result)\n",
        "\n",
        "bracket = []\n",
        "for l in lyrics:\n",
        "  \n",
        "  for sent in l:\n",
        "    result = re.findall(regex, sent)\n",
        "    \n",
        "    for item in result:\n",
        "      if item not in bracket:\n",
        "        bracket.append(item)\n",
        "        \n",
        "# print(bracket)\n",
        "\n",
        "for l in lyrics:\n",
        "  for sent in l:\n",
        "    for item in bracket:\n",
        "      if item in sent:\n",
        "        sent.replace(item, \"\")\n",
        "print(lyrics[20])"
      ],
      "execution_count": 0,
      "outputs": []
    },
    {
      "cell_type": "code",
      "metadata": {
        "id": "VmvhMB6a5vM0",
        "colab_type": "code",
        "colab": {}
      },
      "source": [
        ""
      ],
      "execution_count": 0,
      "outputs": []
    },
    {
      "cell_type": "markdown",
      "metadata": {
        "id": "AfLNvGyN6CSC",
        "colab_type": "text"
      },
      "source": [
        ""
      ]
    }
  ]
}